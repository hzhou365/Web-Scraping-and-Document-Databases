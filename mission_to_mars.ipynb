{
 "cells": [
  {
   "cell_type": "code",
   "execution_count": 1,
   "metadata": {},
   "outputs": [],
   "source": [
    "from splinter import Browser\n",
    "from bs4 import BeautifulSoup\n",
    "import pymongo\n",
    "import requests\n",
    "import pandas as pd\n",
    "import time\n",
    "from datetime import datetime"
   ]
  },
  {
   "cell_type": "code",
   "execution_count": 2,
   "metadata": {},
   "outputs": [],
   "source": [
    "def init_browser():\n",
    "    chrome_location = \"C:\\\\Users\\\\HZhou\\\\UCSD201809DATA4\\\\02-Homework\\\\12-Web-Scraping-and-Document-Databases\\\\Instructions\\\\chromedriver.exe\"\n",
    "    chrome_location = chrome_location.replace(\"\\\\\",\"/\")\n",
    "    executable_path = {\"executable_path\":chrome_location}\n",
    "    \n",
    "    return Browser(\"chrome\", **executable_path, headless=False)"
   ]
  },
  {
   "cell_type": "code",
   "execution_count": 3,
   "metadata": {},
   "outputs": [],
   "source": [
    "def get_soup_object(url):\n",
    "    browser = init_browser()\n",
    "    browser.visit(url)\n",
    "    soup = BeautifulSoup(browser.html,\"html.parser\")\n",
    "    return soup"
   ]
  },
  {
   "cell_type": "code",
   "execution_count": 4,
   "metadata": {},
   "outputs": [],
   "source": [
    "def get_latest_NASA_news():\n",
    "    NASA_MARS_url = \"https://mars.nasa.gov/news/\"\n",
    "    news_soup = get_soup_object(NASA_MARS_url)\n",
    "    latest_news = news_soup.find_all(\"div\",{\"class\":\"list_text\"})[0]\n",
    "    return {\n",
    "        \"title\":latest_news.find(\"div\",{\"class\":\"content_title\"}).text,\n",
    "        \"content\":latest_news.find(\"div\",{\"class\":\"article_teaser_body\"}).text\n",
    "    }"
   ]
  },
  {
   "cell_type": "code",
   "execution_count": 5,
   "metadata": {},
   "outputs": [],
   "source": [
    "def get_MARS_img():\n",
    "    JPL_home_url = \"https://www.jpl.nasa.gov\"\n",
    "    JPL_img_url = JPL_home_url+\"/spaceimages/?search=&category=Mars\"\n",
    "    jpl_soup = get_soup_object(JPL_img_url)\n",
    "    items = jpl_soup.find(\"div\",{\"class\":\"carousel_items\"})\n",
    "    img_title = items.find(\"h1\",{\"class\":\"media_feature_title\"}).text\n",
    "    featured_img = items.find(\"article\")\n",
    "    img_url = JPL_home_url+featured_img['style'].split(':')[1].split('\\'')[1]\n",
    "    return {\n",
    "            \"title\":img_title,\n",
    "            \"img_url\":img_url\n",
    "           }"
   ]
  },
  {
   "cell_type": "code",
   "execution_count": 6,
   "metadata": {},
   "outputs": [],
   "source": [
    "def get_MARS_temperature():\n",
    "    twitter_report_url = \"https://twitter.com/marswxreport?lang=en\"\n",
    "    temp_soup = get_soup_object(twitter_report_url)\n",
    "    return temp_soup.find(\"ol\",{\"id\":\"stream-items-id\"}).find(\"li\").find(\"p\").text"
   ]
  },
  {
   "cell_type": "code",
   "execution_count": 7,
   "metadata": {},
   "outputs": [],
   "source": [
    "def get_MARS_facts():\n",
    "    df = pd.read_html(\"https://space-facts.com/mars/\")[0]\n",
    "    df = df.rename(columns={0:\"Description\",1:\"Value\"})\n",
    "    df = df.set_index(\"Description\")\n",
    "    return df.to_dict()['Value']"
   ]
  },
  {
   "cell_type": "code",
   "execution_count": 8,
   "metadata": {},
   "outputs": [],
   "source": [
    "def scrape():\n",
    "    mars_news = get_latest_NASA_news()\n",
    "    mars_img = get_MARS_img()\n",
    "    mars_facts = get_MARS_facts()\n",
    "    mars_temp = get_MARS_temperature()\n",
    "    return {\n",
    "        \"date\":datetime.now(),\n",
    "        \"news\":mars_news,\n",
    "        \"featured_img\":mars_img,\n",
    "        \"facts\":mars_facts,\n",
    "        \"temperature\":mars_temp,\n",
    "    }"
   ]
  },
  {
   "cell_type": "code",
   "execution_count": 9,
   "metadata": {},
   "outputs": [
    {
     "data": {
      "text/plain": [
       "{'date': datetime.datetime(2019, 1, 27, 21, 48, 15, 121495),\n",
       " 'news': {'title': 'Rover Team Beaming New Commands to Opportunity on Mars',\n",
       "  'content': 'Engineers at JPL have begun transmitting a new set of commands to Opportunity in an attempt to compel the Mars rover to contact Earth.'},\n",
       " 'featured_img': {'title': '\\n\\t\\t\\t\\t  Neptune Full Disk\\t\\t\\t\\t',\n",
       "  'img_url': 'https://www.jpl.nasa.gov/spaceimages/images/wallpaper/PIA00046-1920x1200.jpg'},\n",
       " 'facts': {'Equatorial Diameter:': '6,792 km',\n",
       "  'Polar Diameter:': '6,752 km',\n",
       "  'Mass:': '6.42 x 10^23 kg (10.7% Earth)',\n",
       "  'Moons:': '2 (Phobos & Deimos)',\n",
       "  'Orbit Distance:': '227,943,824 km (1.52 AU)',\n",
       "  'Orbit Period:': '687 days (1.9 years)',\n",
       "  'Surface Temperature:': '-153 to 20 °C',\n",
       "  'First Record:': '2nd millennium BC',\n",
       "  'Recorded By:': 'Egyptian astronomers'},\n",
       " 'temperature': 'Sol 2299 (2019-01-24), high -5C/23F, low -74C/-101F, pressure at 8.18 hPa, daylight 06:46-18:55pic.twitter.com/UNiNdu3U8t'}"
      ]
     },
     "execution_count": 9,
     "metadata": {},
     "output_type": "execute_result"
    }
   ],
   "source": [
    "scrape()"
   ]
  },
  {
   "cell_type": "code",
   "execution_count": null,
   "metadata": {},
   "outputs": [],
   "source": []
  }
 ],
 "metadata": {
  "kernelspec": {
   "display_name": "Python 3",
   "language": "python",
   "name": "python3"
  },
  "language_info": {
   "codemirror_mode": {
    "name": "ipython",
    "version": 3
   },
   "file_extension": ".py",
   "mimetype": "text/x-python",
   "name": "python",
   "nbconvert_exporter": "python",
   "pygments_lexer": "ipython3",
   "version": "3.6.5"
  }
 },
 "nbformat": 4,
 "nbformat_minor": 2
}
